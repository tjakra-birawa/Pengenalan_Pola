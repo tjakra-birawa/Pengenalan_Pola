import numpy as npy
from sklearn.cluster import KMeans
import matplotlib.pyplot as plot
import pandas as pd
path = "C:/Users/cakra/Projek/Pengenalan Pola/pop2.csv"
headernames = ['animasi', 'novel']
dataset = pd.read_csv(path, names = headernames)
obj = npy.array (dataset)
kmeans = KMeans(n_clusters=2)
kmeans.fit(obj)
plot.scatter(obj[:,0], obj[:,1])
kmeans.fit(obj)
print(kmeans.cluster_centers_)
plot.scatter(obj[:,0],obj[:,1],c=kmeans.labels_,cmap='rainbow')
clusters = kmeans.cluster_centers_
print(clusters)
y_km = kmeans.fit_predict(dataset)
plot.scatter(dataset[y_km == :,0], dataset[y_km == :,1], s = 50, color='rainbow' )
plot.scatter(clusters[:][0], clusters[:][1], marker='*', s=100,color='black')
