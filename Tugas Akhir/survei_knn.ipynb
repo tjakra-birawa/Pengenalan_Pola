#Deklarasi library
import numpy as np
import pandas as pd
import matplotlib.pyplot as plt
from matplotlib.colors import ListedColormap, BoundaryNorm
import matplotlib.patches as mpatches
from sklearn.model_selection import train_test_split
from sklearn.neighbors import KNeighborsClassifier
from sklearn import neighbors
#Mengambil dataset.csv dari directory
path = "C:/Users/cakra/Projek/Pengenalan Pola/pop2.csv"
#Melihat sebagian dataset
dataset = pd.read_csv(path)
dataset.head(5)
#melihat row setiap tipe
dataset.groupby('tipe').size()
#dataframe berdasarkan tipe
biasa = dataset[dataset['tipe']=='biasa']
otaku = dataset[dataset['tipe']=='otaku']
#kalkulasi dataframe
biasa.describe()
#kalkulasi dataframe
otaku.describe()
#kalkulasi dataframe
dataset.describe()
#membuat plot berdasarkan konsumsi
plt.figure()
fig,ax=plt.subplots(1,2,figsize=(15, 5))
biasa.plot(x="anime", y="novel", kind="scatter",ax=ax[0],label='biasa',color='r')
otaku.plot(x="anime",y="novel",kind="scatter",ax=ax[0],label='otaku',color='b')

biasa.plot(x="cosplay", y="game", kind="scatter",ax=ax[1],label='biasa',color='r')
otaku.plot(x="cosplay",y="game",kind="scatter",ax=ax[1],label='otaku',color='b')

ax[0].set(title='Perbandingan konsumsi 1', ylabel='novel')
ax[1].set(title='Perbandingan konsumsi 2',  ylabel='game')
ax[0].legend()
ax[1].legend()
# membuat dict key pair value  antara tipe_label dengan tipe
lookup_tipe = dict(zip(dataset.tipe_label.unique(), dataset.tipe.unique()))   
print(lookup_tipe)
# Pada kasus ini explanatory variablenya adalah anime,novel,cosplay dan game sedangkan target variablenya adalah tipe_label
X = dataset[['anime', 'novel','cosplay','game']]
y = dataset['tipe_label']
#prediksi KNN
knn=KNeighborsClassifier(n_neighbors=3) #define K=3
knn.fit(X,y)
a=np.array([[6,7,8,5]])
knn.predict(a)
#membagi dataset tadi menjadi data train dan test
X_train, X_test, y_train, y_test = train_test_split(X, y, test_size = 0.2, random_state=0)
# Chek dimensi array dari massing masing variable
print('X_train = ', X_train.shape)
print('X_test = ', X_test.shape)
print('y_train = ', y_train.shape)
print('y_test = ', y_test.shape)
#menunjukan hasil dari dataset
X_train.head()
#menunjukan hasil dari dataset
y_train.head()
# Create classifier objet
knn = KNeighborsClassifier(n_neighbors = 3)
# Train the classifier using train data
knn.fit(X_train, y_train)
knn.score(X_test, y_test)
def plot_tipe_knn(X, y, n_neighbors, weights):
    X_mat = X[['anime', 'novel']].as_matrix()
    y_mat = y.as_matrix()

    # Create color maps
    cmap_light = ListedColormap(['#FFAAAA', '#AAFFAA'])
    cmap_bold  = ListedColormap(['#FF0000', '#00FF00'])

    clf = neighbors.KNeighborsClassifier(n_neighbors)
    clf.fit(X_mat, y_mat)

    # Plot the decision boundary by assigning a color in the color map
    # to each mesh point.
    
    mesh_step_size = .01  # step size in the mesh
    plot_symbol_size = 50
    
    x_min, x_max = X_mat[:, 0].min() - 1, X_mat[:, 0].max() + 1
    y_min, y_max = X_mat[:, 1].min() - 1, X_mat[:, 1].max() + 1
    xx, yy = np.meshgrid(np.arange(x_min, x_max, mesh_step_size),
                         np.arange(y_min, y_max, mesh_step_size))
    Z = clf.predict(np.c_[xx.ravel(), yy.ravel()])

    # Put the result into a color plot
    Z = Z.reshape(xx.shape)
    plt.figure()
    plt.pcolormesh(xx, yy, Z, cmap=cmap_light)

    # Plot training points
    plt.scatter(X_mat[:, 0], X_mat[:, 1], s=plot_symbol_size, c=y, cmap=cmap_bold, edgecolor = 'black')
    plt.xlim(xx.min(), xx.max())
    plt.ylim(yy.min(), yy.max())

    patch0 = mpatches.Patch(color='#FF0000', label='otaku')
    patch1 = mpatches.Patch(color='#00FF00', label='biasa')
    plt.legend(handles=[patch0, patch1])

        
    plt.xlabel('anime & game')
    plt.ylabel('novel & cosplay')
    
    plt.show()
    # ayo kita plot
plot_tipe_knn(X_train, y_train, 3, 'uniform')  # n_neighbors = 3
